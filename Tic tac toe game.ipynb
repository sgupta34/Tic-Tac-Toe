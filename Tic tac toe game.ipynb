{
 "cells": [
  {
   "cell_type": "markdown",
   "metadata": {},
   "source": [
    "# Milestone Project 1: Walkthrough Steps Workbook\n",
    "\n",
    "Below is a set of steps for you to follow to try to create the Tic Tac Toe Milestone Project game!"
   ]
  },
  {
   "cell_type": "markdown",
   "metadata": {},
   "source": [
    "#### Some suggested tools before you get started:\n",
    "To take input from a user:\n",
    "\n",
    "    player1 = input(\"Please pick a marker 'X' or 'O'\")\n",
    "    \n",
    "Note that input() takes in a string. If you need an integer value, use\n",
    "\n",
    "    position = int(input('Please enter a number'))\n",
    "    \n",
    "<br>To clear the screen between moves:\n",
    "\n",
    "    from IPython.display import clear_output\n",
    "    clear_output()\n",
    "    \n",
    "Note that clear_output() will only work in jupyter. To clear the screen in other IDEs, consider:\n",
    "\n",
    "    print('\\n'*100)\n",
    "    \n",
    "This scrolls the previous board up out of view. Now on to the program!"
   ]
  },
  {
   "cell_type": "markdown",
   "metadata": {},
   "source": [
    "**Step 1: Write a function that can print out a board. Set up your board as a list, where each index 1-9 corresponds with a number on a number pad, so you get a 3 by 3 board representation.**"
   ]
  },
  {
   "cell_type": "code",
   "execution_count": 1,
   "metadata": {},
   "outputs": [],
   "source": [
    "from IPython.display import clear_output\n",
    "\n",
    "def display_board(board):\n",
    "    clear_output()\n",
    "    print('   |   |  ')\n",
    "    print(' '+board[7]+' | '+board[8]+' | '+board[9])\n",
    "    print('---|---|---')\n",
    "    print(' '+board[4]+' | '+board[5]+' | '+board[6])\n",
    "    print('---|---|---')\n",
    "    print(' '+board[1]+' | '+board[2]+' | '+board[3])\n",
    "    print('   |   | ')"
   ]
  },
  {
   "cell_type": "markdown",
   "metadata": {},
   "source": [
    "**TEST Step 1:** run your function on a test version of the board list, and make adjustments as necessary"
   ]
  },
  {
   "cell_type": "code",
   "execution_count": 2,
   "metadata": {},
   "outputs": [
    {
     "name": "stdout",
     "output_type": "stream",
     "text": [
      "   |   |  \n",
      " X | X | X\n",
      "---|---|---\n",
      " O | X | O\n",
      "---|---|---\n",
      " X | O | O\n",
      "   |   | \n"
     ]
    }
   ],
   "source": [
    "test_board = ['#','X','O','O','O','X','O','X','X','X']\n",
    "display_board(test_board)"
   ]
  },
  {
   "cell_type": "markdown",
   "metadata": {},
   "source": [
    "**Step 2: Write a function that can take in a player input and assign their marker as 'X' or 'O'. Think about using *while* loops to continually ask until you get a correct answer.**"
   ]
  },
  {
   "cell_type": "code",
   "execution_count": 3,
   "metadata": {},
   "outputs": [],
   "source": [
    "def player_input():\n",
    "    global player1\n",
    "    global player2\n",
    "    f=True\n",
    "    while(f):\n",
    "        player1 = input(\"Player 1: Please pick a marker 'X' or 'O' : \")\n",
    "        player1=player1.upper()\n",
    "        if player1=='X':\n",
    "            player2='O'\n",
    "            print('Player 1 is X\\nPlayer 2 is O')\n",
    "            print('Player 1 will go first\\n')\n",
    "            f=False\n",
    "        elif player1=='O':\n",
    "            player2='X'\n",
    "            print('Player 1 is O\\nPlayer 2 is X')\n",
    "            print('Player 2 will go first\\n')\n",
    "            f=False\n",
    "        else:\n",
    "            print('You have entered the wrong value/nPlease try again!')\n",
    "    \n",
    "        "
   ]
  },
  {
   "cell_type": "markdown",
   "metadata": {},
   "source": [
    "**TEST Step 2:** run the function to make sure it returns the desired output"
   ]
  },
  {
   "cell_type": "code",
   "execution_count": null,
   "metadata": {},
   "outputs": [],
   "source": []
  },
  {
   "cell_type": "markdown",
   "metadata": {},
   "source": [
    "**Step 3: Write a function that takes in the board list object, a marker ('X' or 'O'), and a desired position (number 1-9) and assigns it to the board.**"
   ]
  },
  {
   "cell_type": "code",
   "execution_count": 4,
   "metadata": {},
   "outputs": [],
   "source": [
    "def place_marker(board, marker, position):\n",
    "    \n",
    "    board[position]=marker"
   ]
  },
  {
   "cell_type": "markdown",
   "metadata": {},
   "source": [
    "**TEST Step 3:** run the place marker function using test parameters and display the modified board"
   ]
  },
  {
   "cell_type": "code",
   "execution_count": 5,
   "metadata": {},
   "outputs": [
    {
     "name": "stdout",
     "output_type": "stream",
     "text": [
      "   |   |  \n",
      " X | $ | X\n",
      "---|---|---\n",
      " O | X | O\n",
      "---|---|---\n",
      " X | O | O\n",
      "   |   | \n"
     ]
    }
   ],
   "source": [
    "place_marker(test_board,'$',8)\n",
    "display_board(test_board)"
   ]
  },
  {
   "cell_type": "markdown",
   "metadata": {},
   "source": [
    "**Step 4: Write a function that takes in a board and a mark (X or O) and then checks to see if that mark has won. **"
   ]
  },
  {
   "cell_type": "code",
   "execution_count": 6,
   "metadata": {},
   "outputs": [],
   "source": [
    "def win_check(board, mark):\n",
    "    mark=mark.upper()\n",
    "    if mark=='X':\n",
    "        if (board[1]=='X' and board[2]=='X' and board[3]=='X') or (board[4]=='X' and board[5]=='X' and board[6]=='X') or (board[7]=='X' and board[8]=='X' and board[9]=='X') or (board[1]=='X' and board[5]=='X' and board[9]=='X') or (board[3]=='X' and board[5]=='X' and board[7]=='X') or (board[1]=='X' and board[4]=='X' and board[7]=='X') or (board[2]=='X' and board[5]=='X' and board[8]=='X') or (board[3]=='X' and board[6]=='X' and board[9]=='X'):\n",
    "            \n",
    "            return 'X' \n",
    "        \n",
    "    else:\n",
    "        if (board[1]=='O' and board[2]=='O' and board[3]=='O') or (board[4]=='O' and board[5]=='O' and board[6]=='O') or(board[7]=='O' and board[8]=='O' and board[9]=='O') or (board[1]=='O' and board[5]=='O' and board[9]=='O') or (board[3]=='O' and board[5]=='O' and board[7]=='O') or (board[1]=='O' and board[4]=='O' and board[7]=='O') or (board[2]=='O' and board[5]=='O' and board[8]=='O') or (board[3]=='O' and board[6]=='O' and board[9]=='O'):\n",
    "            return 'O' \n",
    "    return True   \n",
    "        "
   ]
  },
  {
   "cell_type": "markdown",
   "metadata": {},
   "source": [
    "**TEST Step 4:** run the win_check function against our test_board - it should return True"
   ]
  },
  {
   "cell_type": "code",
   "execution_count": 7,
   "metadata": {},
   "outputs": [
    {
     "data": {
      "text/plain": [
       "'X'"
      ]
     },
     "execution_count": 7,
     "metadata": {},
     "output_type": "execute_result"
    }
   ],
   "source": [
    "win_check(test_board,'X')"
   ]
  },
  {
   "cell_type": "markdown",
   "metadata": {},
   "source": [
    "**Step 5: Write a function that uses the random module to randomly decide which player goes first. You may want to lookup random.randint() Return a string of which player went first.**"
   ]
  },
  {
   "cell_type": "code",
   "execution_count": 8,
   "metadata": {},
   "outputs": [],
   "source": [
    "import random\n",
    "\n",
    "def choose_first():\n",
    "    pass"
   ]
  },
  {
   "cell_type": "markdown",
   "metadata": {},
   "source": [
    "**Step 6: Write a function that returns a boolean indicating whether a space on the board is freely available.**"
   ]
  },
  {
   "cell_type": "code",
   "execution_count": 9,
   "metadata": {},
   "outputs": [],
   "source": [
    "def space_check(board, position):\n",
    "    \n",
    "    if board[position] == ' ':\n",
    "        return True\n",
    "    else:\n",
    "        return False"
   ]
  },
  {
   "cell_type": "markdown",
   "metadata": {},
   "source": [
    "**Step 7: Write a function that checks if the board is full and returns a boolean value. True if full, False otherwise.**"
   ]
  },
  {
   "cell_type": "code",
   "execution_count": 10,
   "metadata": {},
   "outputs": [],
   "source": [
    "def full_board_check(board):\n",
    "    for i in range(1,10):\n",
    "        if space_check(board, i):\n",
    "            return False\n",
    "    return True\n",
    "        "
   ]
  },
  {
   "cell_type": "markdown",
   "metadata": {},
   "source": [
    "**Step 8: Write a function that asks for a player's next position (as a number 1-9) and then uses the function from step 6 to check if it's a free position. If it is, then return the position for later use.**"
   ]
  },
  {
   "cell_type": "code",
   "execution_count": 11,
   "metadata": {},
   "outputs": [],
   "source": [
    "def player_choice(board):\n",
    "    c=True\n",
    "    while(c):\n",
    "        temp=int(input('Please choose your position from (1 to 9)'))\n",
    "        \n",
    "        if space_check(board,temp):\n",
    "            position=temp\n",
    "            c=False\n",
    "        else:\n",
    "            print('Position occupied please try different value')\n",
    "    return position"
   ]
  },
  {
   "cell_type": "markdown",
   "metadata": {},
   "source": [
    "**Step 9: Write a function that asks the player if they want to play again and returns a boolean True if they do want to play again.**"
   ]
  },
  {
   "cell_type": "code",
   "execution_count": 12,
   "metadata": {},
   "outputs": [],
   "source": [
    "def replay():\n",
    "    while(True):\n",
    "        val=input('Type Yes to play again and NO to exit : ')\n",
    "        if val.lower()=='yes':\n",
    "            return True\n",
    "        elif val.lower()=='no':\n",
    "            return False\n"
   ]
  },
  {
   "cell_type": "markdown",
   "metadata": {},
   "source": [
    "**Step 10: Here comes the hard part! Use while loops and the functions you've made to run the game!**"
   ]
  },
  {
   "cell_type": "code",
   "execution_count": 13,
   "metadata": {},
   "outputs": [
    {
     "name": "stdout",
     "output_type": "stream",
     "text": [
      "   |   |  \n",
      " O |   | X\n",
      "---|---|---\n",
      "   | O | X\n",
      "---|---|---\n",
      " X | O | X\n",
      "   |   | \n",
      "Player 1 won the game!\n",
      "\n",
      "\n",
      "Type Yes to play again and NO to exit : n\n",
      "Type Yes to play again and NO to exit : no\n"
     ]
    }
   ],
   "source": [
    "test_board = ['#','1','2','3','4','5','6','7','8','9']\n",
    "display_board(test_board)\n",
    "print('Welcome to Tic Tac Toe!')\n",
    "player1=''\n",
    "player2=''\n",
    "while(True):\n",
    "    player_input()\n",
    "    board = ['#',' ',' ',' ',' ',' ',' ',' ',' ',' ']\n",
    "    g=input('Hit Enter to start playing')\n",
    "        \n",
    "    display_board(board)\n",
    "    while (True):\n",
    "        pos=player_choice(board)\n",
    "        place_marker(board,'X',pos)\n",
    "        display_board(board)\n",
    "        k=win_check(board,'X')\n",
    "        if k=='X' or k=='O':\n",
    "            if (player1=='X' and k=='X') or (player1=='O' and k=='O'):\n",
    "                print('Player 1 won the game!\\n\\n')\n",
    "            elif (player2=='X' and k=='X') or (player2=='O' and k=='O'):\n",
    "                print('Player 2 won the game!\\n\\n')\n",
    "            break\n",
    "        if full_board_check(board) :\n",
    "            print('Match is DRAW')\n",
    "            break\n",
    "        pos=player_choice(board)\n",
    "        place_marker(board,'O',pos)\n",
    "        display_board(board)\n",
    "        k=win_check(board,'O')\n",
    "        if k=='X' or k=='O':\n",
    "            if (player1=='X' and k=='X') or (player1=='O' and k=='O'):\n",
    "                print('Player 1 won the game!\\n\\n')\n",
    "            elif (player2=='X' and k=='X') or (player2=='O' and k=='O'):\n",
    "                print('Player 2 won the game!\\n\\n')\n",
    "            break\n",
    "        if full_board_check(board) :\n",
    "            print('Match is DRAW')\n",
    "            break\n",
    "    if not replay():\n",
    "        break\n",
    "        \n",
    "            \n"
   ]
  },
  {
   "cell_type": "markdown",
   "metadata": {},
   "source": [
    "## Good Job!"
   ]
  },
  {
   "cell_type": "markdown",
   "metadata": {},
   "source": []
  }
 ],
 "metadata": {
  "kernelspec": {
   "display_name": "Python 3",
   "language": "python",
   "name": "python3"
  },
  "language_info": {
   "codemirror_mode": {
    "name": "ipython",
    "version": 3
   },
   "file_extension": ".py",
   "mimetype": "text/x-python",
   "name": "python",
   "nbconvert_exporter": "python",
   "pygments_lexer": "ipython3",
   "version": "3.7.4"
  }
 },
 "nbformat": 4,
 "nbformat_minor": 4
}
